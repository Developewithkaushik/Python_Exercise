{
 "cells": [
  {
   "cell_type": "code",
   "execution_count": 3,
   "id": "3d903a0b-67dc-455a-bf3c-f1a219f40478",
   "metadata": {},
   "outputs": [
    {
     "name": "stdout",
     "output_type": "stream",
     "text": [
      "{}\n"
     ]
    },
    {
     "name": "stdin",
     "output_type": "stream",
     "text": [
      "Enter Phy marks : 88\n",
      "Enter Chem marks : 78\n",
      "Enter Math marks : 63\n"
     ]
    },
    {
     "name": "stdout",
     "output_type": "stream",
     "text": [
      "Student's Marks are {'Phy': 88, 'Chem': 78, 'Math': 63}\n"
     ]
    }
   ],
   "source": [
    "marks = {}\n",
    "print(marks)\n",
    "\n",
    "x=int(input(\"Enter Phy marks :\"))\n",
    "marks.update({\"Phy\":x})\n",
    "\n",
    "y=int(input(\"Enter Chem marks :\"))\n",
    "marks.update({\"Chem\":y})\n",
    "\n",
    "z=int(input(\"Enter Math marks :\"))\n",
    "marks.update({\"Math\":z})\n",
    "\n",
    "print(\"Student's Marks are\",marks)"
   ]
  },
  {
   "cell_type": "markdown",
   "id": "da5dbd03-78d2-4b02-9e26-88c0a98203fd",
   "metadata": {},
   "source": [
    "## List"
   ]
  },
  {
   "cell_type": "code",
   "execution_count": 8,
   "id": "65324c89-c937-48c7-9db7-b123770eeb7b",
   "metadata": {},
   "outputs": [
    {
     "name": "stdout",
     "output_type": "stream",
     "text": [
      "List Before update =  ['banana', 'apple', 'mango']\n",
      "List After Update =  ['banana', 'Orange', 'mango']\n"
     ]
    }
   ],
   "source": [
    "list1 = [\"banana\",\"apple\",\"mango\"]\n",
    "print(\"List Before update = \",list1)\n",
    "list1[1] = \"Orange\"  ### Change list item \n",
    "print(\"List After Update = \", list1)"
   ]
  },
  {
   "cell_type": "code",
   "execution_count": 9,
   "id": "fbf455cd-102e-436f-af26-1b1bbbbbb58a",
   "metadata": {},
   "outputs": [
    {
     "name": "stdout",
     "output_type": "stream",
     "text": [
      "List Before addition =  ['banana', 'apple', 'mango']\n",
      "List After addition =  ['banana', 'apple', 'mango', 'Orange']\n"
     ]
    }
   ],
   "source": [
    "## To add or append an item at the last place of the list\n",
    "list1 = [\"banana\",\"apple\",\"mango\"]\n",
    "print(\"List Before addition = \",list1)\n",
    "list1.append(\"Orange\")       #append function\n",
    "print(\"List After addition = \", list1)"
   ]
  },
  {
   "cell_type": "code",
   "execution_count": 10,
   "id": "d128d069-501b-4293-9c71-b924e0602564",
   "metadata": {},
   "outputs": [
    {
     "name": "stdout",
     "output_type": "stream",
     "text": [
      "List Before addition =  ['banana', 'apple', 'mango']\n",
      "List After addition =  ['banana', 'apple', 'Orange', 'mango']\n"
     ]
    }
   ],
   "source": [
    "## To add an item at the specific place of the list\n",
    "list1 = [\"banana\",\"apple\",\"mango\"]\n",
    "print(\"List Before addition = \",list1)\n",
    "list1.insert(2,\"Orange\")          ## inserrt function\n",
    "print(\"List After addition = \", list1)"
   ]
  },
  {
   "cell_type": "code",
   "execution_count": 25,
   "id": "fb3a03df-90dd-4c5c-bdb1-2f390ffae896",
   "metadata": {},
   "outputs": [
    {
     "name": "stdout",
     "output_type": "stream",
     "text": [
      "List Before remove =  ['banana', 'apple', 'mango', 'Orange']\n",
      "After remove, list = ['banana', 'mango', 'Orange']\n"
     ]
    }
   ],
   "source": [
    "## To Remove a value from the list if you don't know the index of the value\n",
    "list1 = [\"banana\",\"apple\",\"mango\",\"Orange\"]\n",
    "print(\"List Before remove = \",list1)\n",
    "\n",
    "list1.remove(\"apple\")    ### Remove method is used to remove one specific value from the list\n",
    "print(\"After remove, list =\", list1)"
   ]
  },
  {
   "cell_type": "code",
   "execution_count": 26,
   "id": "a5421847-9cd1-49fb-98ee-51ac686f4fd9",
   "metadata": {},
   "outputs": [
    {
     "name": "stdout",
     "output_type": "stream",
     "text": [
      "List Before remove =  ['banana', 'apple', 'mango', 'Orange']\n",
      "After remove, list = ['banana', 'mango', 'Orange']\n"
     ]
    }
   ],
   "source": [
    "## To remove a value at the specific place of the list\n",
    "list1 = [\"banana\",\"apple\",\"mango\",\"Orange\"]\n",
    "print(\"List Before remove = \",list1)\n",
    "\n",
    "list1.pop(1)    ### POP method is used to remove value from a specific place from the list\n",
    "print(\"After remove, list =\", list1)"
   ]
  },
  {
   "cell_type": "code",
   "execution_count": 27,
   "id": "49258165-5ce1-4588-a8c8-4a38789afb20",
   "metadata": {},
   "outputs": [
    {
     "name": "stdout",
     "output_type": "stream",
     "text": [
      "['banana', 'kiwi', 'mango', 'orange', 'pineapple']\n"
     ]
    }
   ],
   "source": [
    "## List Sorting assending\n",
    "thislist = [\"orange\", \"mango\", \"kiwi\", \"pineapple\", \"banana\"]\n",
    "\n",
    "thislist.sort()\n",
    "\n",
    "print(thislist)\n"
   ]
  },
  {
   "cell_type": "code",
   "execution_count": 30,
   "id": "2ac0dcd7-1212-46f4-ab94-e11ae047ca37",
   "metadata": {},
   "outputs": [
    {
     "name": "stdout",
     "output_type": "stream",
     "text": [
      "['pineapple', 'orange', 'mango', 'kiwi', 'banana']\n"
     ]
    }
   ],
   "source": [
    "## List Sorting desending\n",
    "thislist = [\"orange\", \"mango\", \"kiwi\", \"pineapple\", \"banana\"]\n",
    "\n",
    "thislist.sort(reverse= True)\n",
    "\n",
    "print(thislist)\n"
   ]
  },
  {
   "cell_type": "code",
   "execution_count": 3,
   "id": "17193e0e-cfd1-4f7d-91ec-f4606bfd4d03",
   "metadata": {},
   "outputs": [
    {
     "name": "stdout",
     "output_type": "stream",
     "text": [
      "\n",
      " Original list = ['orange', 'mango', 'kiwi', 'pineapple', 'banana']\n",
      "\n",
      " After sorted list =\n",
      "['banana', 'kiwi', 'mango', 'orange', 'pineapple']\n",
      "\n",
      " Original list again : ['orange', 'mango', 'kiwi', 'pineapple', 'banana']\n"
     ]
    }
   ],
   "source": [
    "## sorted() method used\n",
    "thislist = [\"orange\", \"mango\", \"kiwi\", \"pineapple\", \"banana\"]\n",
    "print(\"\\n Original list =\",thislist)\n",
    "\n",
    "\n",
    "print(\"\\n After sorted list =\")\n",
    "print(sorted(thislist))\n",
    "\n",
    "\n",
    "print(\"\\n Original list again :\",thislist)"
   ]
  },
  {
   "cell_type": "code",
   "execution_count": null,
   "id": "194b1c3e-32e7-44bb-8c7a-1fc92aaa4452",
   "metadata": {},
   "outputs": [],
   "source": []
  },
  {
   "cell_type": "markdown",
   "id": "74609f82-eecc-4167-b68a-eed4f421c0bd",
   "metadata": {},
   "source": [
    "### Practice Program "
   ]
  },
  {
   "cell_type": "code",
   "execution_count": 7,
   "id": "69773301-e0f2-48b4-a903-ef3997675988",
   "metadata": {},
   "outputs": [
    {
     "name": "stdout",
     "output_type": "stream",
     "text": [
      "Bipul Dinner at my home tonight\n",
      "Biswa Dinner at my home tonight\n",
      "Abhijit Dinner at my home tonight\n"
     ]
    }
   ],
   "source": [
    "## list \n",
    "name = [\"Bipul\",\"Biswa\",\"Abhijit\"]\n",
    "print(f\"{name[0]} Dinner at my home tonight\")\n",
    "print(f\"{name[1]} Dinner at my home tonight\")\n",
    "print(f\"{name[2]} Dinner at my home tonight\")"
   ]
  },
  {
   "cell_type": "code",
   "execution_count": 10,
   "id": "c9cd45ca-e53b-4cb2-a528-2a6f198c1f10",
   "metadata": {},
   "outputs": [
    {
     "name": "stdout",
     "output_type": "stream",
     "text": [
      "Biswa cannot make it\n",
      "Himangshu Dinner at my home tonight\n",
      "New list is: ['Bipul', 'Himangshu', 'Abhijit']\n"
     ]
    }
   ],
   "source": [
    "## Change the list item\n",
    "name = [\"Bipul\",\"Biswa\",\"Abhijit\"]\n",
    "print(f\"{name[1]} cannot make it\")\n",
    "\n",
    "name[1]=\"Himangshu\"  ## new value in a spacific place.\n",
    "print(f\"{name[1]} Dinner at my home tonight\")\n",
    "print(\"New list is:\", name)"
   ]
  },
  {
   "cell_type": "markdown",
   "id": "eae8c0c2-eed9-44b6-9f6d-780f43ffe17f",
   "metadata": {},
   "source": [
    "#### write a program in python that takes user input and an take maximum of 5 inputs. make sure that there is no duplicate entry. "
   ]
  },
  {
   "cell_type": "code",
   "execution_count": 13,
   "id": "3944f8fa-d80f-47d2-a51a-34de3e4f9a6d",
   "metadata": {},
   "outputs": [
    {
     "name": "stdin",
     "output_type": "stream",
     "text": [
      "Enter item 1 (you can enter a maximum of 5 unique items):  shoe\n"
     ]
    },
    {
     "name": "stdout",
     "output_type": "stream",
     "text": [
      "Item 'shoe' is added.\n"
     ]
    },
    {
     "name": "stdin",
     "output_type": "stream",
     "text": [
      "Enter item 2 (you can enter a maximum of 5 unique items):  watch\n"
     ]
    },
    {
     "name": "stdout",
     "output_type": "stream",
     "text": [
      "Item 'watch' is added.\n"
     ]
    },
    {
     "name": "stdin",
     "output_type": "stream",
     "text": [
      "Enter item 3 (you can enter a maximum of 5 unique items):  shocks\n"
     ]
    },
    {
     "name": "stdout",
     "output_type": "stream",
     "text": [
      "Item 'shocks' is added.\n"
     ]
    },
    {
     "name": "stdin",
     "output_type": "stream",
     "text": [
      "Enter item 4 (you can enter a maximum of 5 unique items):  shirt\n"
     ]
    },
    {
     "name": "stdout",
     "output_type": "stream",
     "text": [
      "Item 'shirt' is added.\n"
     ]
    },
    {
     "name": "stdin",
     "output_type": "stream",
     "text": [
      "Enter item 5 (you can enter a maximum of 5 unique items):  shoe\n"
     ]
    },
    {
     "name": "stdout",
     "output_type": "stream",
     "text": [
      "This item is a duplicate, please enter a different value.\n"
     ]
    },
    {
     "name": "stdin",
     "output_type": "stream",
     "text": [
      "Enter item 5 (you can enter a maximum of 5 unique items):  watch\n"
     ]
    },
    {
     "name": "stdout",
     "output_type": "stream",
     "text": [
      "This item is a duplicate, please enter a different value.\n"
     ]
    },
    {
     "name": "stdin",
     "output_type": "stream",
     "text": [
      "Enter item 5 (you can enter a maximum of 5 unique items):  t-shirt\n"
     ]
    },
    {
     "name": "stdout",
     "output_type": "stream",
     "text": [
      "Item 't-shirt' is added.\n",
      "\n",
      "Unique items collected: ['shoe', 'watch', 'shocks', 'shirt', 't-shirt']\n"
     ]
    }
   ],
   "source": [
    "\n",
    "# Initialize an empty list to store user inputs\n",
    "trip_items = []\n",
    "\n",
    "# Maximum number of inputs allowed\n",
    "max_items = 5\n",
    "\n",
    "# Loop to take up to 5 inputs\n",
    "while len(trip_items) < max_items:\n",
    "    # Take user input\n",
    "    user_input = input(f\"Enter item {len(trip_items) + 1} (you can enter a maximum of {max_items} unique items): \")\n",
    "\n",
    "    # Check if the input is a duplicate\n",
    "    if user_input in trip_items:\n",
    "        print(\"This item is a duplicate, please enter a different value.\")\n",
    "    else:\n",
    "        # Add the input to the list if it is unique\n",
    "        trip_items.append(user_input)\n",
    "        print(f\"Item '{user_input}' is added.\")\n",
    "\n",
    "# Print all the unique inputs\n",
    "print(\"\\nUnique items collected:\", trip_items)\n",
    "\n",
    "\n"
   ]
  },
  {
   "cell_type": "code",
   "execution_count": null,
   "id": "e09ed71d-0e6c-475e-834c-b76951896ec1",
   "metadata": {},
   "outputs": [],
   "source": []
  },
  {
   "cell_type": "markdown",
   "id": "eaabe84f-c455-4b53-a0ad-b68498c674eb",
   "metadata": {},
   "source": [
    "## Loops"
   ]
  },
  {
   "cell_type": "code",
   "execution_count": 2,
   "id": "95ae2a32-fd80-4b6d-bd67-42b4b751adc1",
   "metadata": {},
   "outputs": [
    {
     "name": "stdout",
     "output_type": "stream",
     "text": [
      "Hello\n",
      "Hello\n",
      "Hello\n",
      "Hello\n",
      "Hello\n",
      "6\n"
     ]
    }
   ],
   "source": [
    "count = 1\n",
    "while count <=5:\n",
    "    print(\"Hello\")\n",
    "    count += 1\n",
    "print(count)"
   ]
  },
  {
   "cell_type": "code",
   "execution_count": 1,
   "id": "900a5e61-8e3c-46be-a336-95e8e2288578",
   "metadata": {},
   "outputs": [
    {
     "name": "stdout",
     "output_type": "stream",
     "text": [
      "7\n",
      "6\n",
      "5\n",
      "4\n",
      "3\n",
      "2\n",
      "1\n"
     ]
    }
   ],
   "source": [
    "## Program to print the no.s from 7 to 1\n",
    "i = 7\n",
    "while i >= 1:\n",
    "    print(i)\n",
    "    i -= 1 "
   ]
  },
  {
   "cell_type": "code",
   "execution_count": 3,
   "id": "1d57f167-b946-4d5c-ab26-36df1a3dfbcc",
   "metadata": {},
   "outputs": [
    {
     "name": "stdout",
     "output_type": "stream",
     "text": [
      "1\n",
      "2\n",
      "3\n",
      "4\n",
      "5\n",
      "6\n",
      "7\n",
      "End of Loop\n"
     ]
    }
   ],
   "source": [
    "## Program to print the no.s from 1 to 7\n",
    "i = 1\n",
    "while i <= 7:\n",
    "    print(i)\n",
    "    i += 1\n",
    "\n",
    "print(\"End of Loop\")"
   ]
  },
  {
   "cell_type": "code",
   "execution_count": 4,
   "id": "7fd9b382-2c10-49d5-9ac0-d5e52c702726",
   "metadata": {},
   "outputs": [
    {
     "name": "stdin",
     "output_type": "stream",
     "text": [
      "Enter a No. = 4\n"
     ]
    },
    {
     "name": "stdout",
     "output_type": "stream",
     "text": [
      " The Multiplication table of '4' is = \n",
      "4\n",
      "8\n",
      "12\n",
      "16\n",
      "20\n",
      "24\n",
      "28\n",
      "32\n",
      "36\n",
      "40\n",
      "End\n"
     ]
    }
   ],
   "source": [
    "## Print Multiplication of a no. entered by user\n",
    "num = int(input(\"Enter a No. =\"))\n",
    "i = 1  \n",
    "\n",
    "print(f\" The Multiplication table of '{num}' is = \")\n",
    "while i <= 10:\n",
    "    print(num*i)\n",
    "    i += 1\n",
    "\n",
    "print(\"End\")"
   ]
  },
  {
   "cell_type": "code",
   "execution_count": 7,
   "id": "a9b14766-3bc7-43b8-b985-dc8d88b4eb8d",
   "metadata": {},
   "outputs": [
    {
     "name": "stdout",
     "output_type": "stream",
     "text": [
      "the Elements of the list are =\n",
      "1\n",
      "4\n",
      "9\n",
      "16\n",
      "25\n",
      "36\n",
      "49\n",
      "64\n",
      "81\n",
      "100\n",
      "End\n"
     ]
    }
   ],
   "source": [
    "## print elements of the following list using while loop [1,4,9,16,25,36,49,64,81,100]\n",
    "\n",
    "num = [1,4,9,16,25,36,49,64,81,100]\n",
    "i = 0      ## for used as indexing\n",
    "\n",
    "print(\"the Elements of the list are =\")\n",
    "while i < (len(num)):\n",
    "    print(num[i])\n",
    "    i += 1 \n",
    "print(\"End\")"
   ]
  },
  {
   "cell_type": "code",
   "execution_count": 13,
   "id": "504f68fb-bfa5-4ad3-89f5-10cd5f2b3269",
   "metadata": {},
   "outputs": [
    {
     "name": "stdin",
     "output_type": "stream",
     "text": [
      "Enter a no. to be searched from the tuple = 25\n"
     ]
    },
    {
     "name": "stdout",
     "output_type": "stream",
     "text": [
      "Finding.......\n",
      "Finding.......\n",
      "Finding.......\n",
      "Finding.......\n",
      "the no. is Found, and its index is '4'\n",
      "Finding.......\n",
      "Finding.......\n",
      "Finding.......\n",
      "Finding.......\n",
      "Finding.......\n",
      "End\n"
     ]
    }
   ],
   "source": [
    "## Search for a number in the following list using while loop [1,4,9,16,25,36,49,64,81,100]\n",
    "\n",
    "tup = (1,4,9,16,25,36,49,64,81,100)\n",
    "num = int(input(\"Enter a no. to be searched from the tuple =\"))\n",
    "i = 0   ##initialization\n",
    "while i < len(tup):\n",
    "    if(tup[i]==num):\n",
    "        print(f\"the no. is Found, and its index is '{i}'\")\n",
    "    else:\n",
    "        print(\"Finding.......\")\n",
    "    i +=1\n",
    "print(\"End\")"
   ]
  },
  {
   "cell_type": "markdown",
   "id": "bf50b8a0-1144-4e70-91d1-a995120a4fb3",
   "metadata": {},
   "source": [
    "## Working with Lists"
   ]
  },
  {
   "cell_type": "code",
   "execution_count": 1,
   "id": "d719416f-dbe4-487f-bf5a-25cf4d63d70e",
   "metadata": {},
   "outputs": [
    {
     "name": "stdout",
     "output_type": "stream",
     "text": [
      "Biswa\n",
      "Himagshu\n",
      "Abhijit\n",
      "that is all\n"
     ]
    }
   ],
   "source": [
    "Friends = [\"Biswa\",\"Himagshu\",\"Abhijit\"]\n",
    "for friend in Friends:\n",
    "    print(friend)\n",
    "print(\"that is all\")"
   ]
  },
  {
   "cell_type": "code",
   "execution_count": 6,
   "id": "ce1e3992-6fdc-4122-834f-7aa7f39f70da",
   "metadata": {},
   "outputs": [
    {
     "name": "stdout",
     "output_type": "stream",
     "text": [
      "Hi Biswa Lets get together some times\n",
      "Biswa, Bring your own meal\n",
      "Hi Himagshu Lets get together some times\n",
      "Himagshu, Bring your own meal\n",
      "Hi Abhijit Lets get together some times\n",
      "Abhijit, Bring your own meal\n",
      "that is all\n"
     ]
    }
   ],
   "source": [
    "Friends = [\"Biswa\",\"Himagshu\",\"Abhijit\"]\n",
    "for friend in Friends:\n",
    "    print(f\"Hi {friend.title()} Lets get together some times\")  ## inside a sentence\n",
    "    print(friend.title() +  \", Bring your own meal\")\n",
    "print(\"that is all\")"
   ]
  },
  {
   "cell_type": "markdown",
   "id": "851394a3-eba1-42e9-aa58-02e5b5ae9819",
   "metadata": {},
   "source": [
    "### Functions"
   ]
  },
  {
   "cell_type": "code",
   "execution_count": 2,
   "id": "8cde768b-d1d8-445e-b9cf-cdb190d527a5",
   "metadata": {},
   "outputs": [
    {
     "name": "stdout",
     "output_type": "stream",
     "text": [
      "Sum is = 9\n"
     ]
    },
    {
     "data": {
      "text/plain": [
       "9"
      ]
     },
     "execution_count": 2,
     "metadata": {},
     "output_type": "execute_result"
    }
   ],
   "source": [
    "def cal_sum(a,b):\n",
    "    sum = a+b\n",
    "    print(\"Sum is =\",sum)\n",
    "    return sum\n",
    "cal_sum(2,7)\n",
    "\n"
   ]
  },
  {
   "cell_type": "code",
   "execution_count": 3,
   "id": "d31729c1-f785-49cc-bbbc-71692fce175e",
   "metadata": {},
   "outputs": [
    {
     "name": "stdout",
     "output_type": "stream",
     "text": [
      "17\n"
     ]
    }
   ],
   "source": [
    "def calc_sum(a,b):\n",
    "    return a+b\n",
    "sum = calc_sum(8,9)\n",
    "print(sum)"
   ]
  },
  {
   "cell_type": "code",
   "execution_count": 5,
   "id": "eede3b3f-febd-4f14-bc7a-a2d24ffdb792",
   "metadata": {},
   "outputs": [
    {
     "name": "stdin",
     "output_type": "stream",
     "text": [
      "Enter 1st no. 7\n",
      "Enter 2nd no. 10\n"
     ]
    },
    {
     "name": "stdout",
     "output_type": "stream",
     "text": [
      "Sum is =  17\n"
     ]
    }
   ],
   "source": [
    "a = int(input(\"Enter 1st no.\"))\n",
    "b = int(input(\"Enter 2nd no.\"))\n",
    "\n",
    "def calc_sum(a,b):\n",
    "    return a+b\n",
    "sum = calc_sum(a,b)\n",
    "print (\"Sum is = \",sum)"
   ]
  },
  {
   "cell_type": "markdown",
   "id": "6d8d168b-be11-4915-9142-8f2484a0807b",
   "metadata": {},
   "source": [
    "### ARRay"
   ]
  },
  {
   "cell_type": "code",
   "execution_count": 1,
   "id": "fe0baa2a-4421-44b9-b005-fdf5e7b027f9",
   "metadata": {},
   "outputs": [],
   "source": [
    "import array as arr"
   ]
  },
  {
   "cell_type": "code",
   "execution_count": 12,
   "id": "7a55974d-089a-4e3d-a6a6-2ab9350fcb3f",
   "metadata": {},
   "outputs": [
    {
     "name": "stdout",
     "output_type": "stream",
     "text": [
      "4\n",
      "3.4000000953674316\n",
      "<class 'array.array'>\n",
      "array('i', [8, 7, 6, 4, 8])\n",
      "8\n",
      "4\n",
      "6\n",
      "7\n",
      "8\n"
     ]
    }
   ],
   "source": [
    "a = arr.array('i',[1,4,6,7,8])\n",
    "print(a[1])\n",
    "b = arr.array('f',[1.2,2.5,3.4])\n",
    "print(b[2])\n",
    "a[0]=8\n",
    "print(type(a))\n",
    "print(a[::-1])\n",
    "for i in a:\n",
    "    print(i)"
   ]
  },
  {
   "cell_type": "code",
   "execution_count": 14,
   "id": "294e37e2-00fe-4c5d-bf3e-71c0585f9fce",
   "metadata": {},
   "outputs": [
    {
     "name": "stdout",
     "output_type": "stream",
     "text": [
      "['a', 'b', 'c', 'd']\n"
     ]
    }
   ],
   "source": [
    "string = ['a','b','c','d']\n",
    "print(string)"
   ]
  },
  {
   "cell_type": "code",
   "execution_count": 15,
   "id": "5611a092-f698-4520-a2e5-77ae2682830a",
   "metadata": {},
   "outputs": [
    {
     "name": "stdout",
     "output_type": "stream",
     "text": [
      "6\n"
     ]
    }
   ],
   "source": [
    "a = [1,2,3]\n",
    "print(sum(a))\n"
   ]
  },
  {
   "cell_type": "markdown",
   "id": "fc4c866b-7f6a-4739-9da5-7fd48941a3e8",
   "metadata": {},
   "source": [
    "### Create a array of 10 elements and perform the following \n",
    "\n",
    "#### 1. Display the elements\n",
    "#### 2. Modify\n",
    "#### 3. delete elements \n",
    "#### 4. reverse the elements"
   ]
  },
  {
   "cell_type": "code",
   "execution_count": 2,
   "id": "028d2fc5-9048-4031-97f5-d63a5686ef76",
   "metadata": {},
   "outputs": [
    {
     "name": "stdout",
     "output_type": "stream",
     "text": [
      "array('i', [1, 2, 3, 4, 5, 6, 7, 8, 9, 10])\n",
      "1\n",
      "2\n",
      "3\n",
      "4\n",
      "5\n",
      "6\n",
      "7\n",
      "8\n",
      "9\n",
      "10\n",
      "array('i', [1, 2, 3, 4, 5, 6, 7, 11, 9, 15])\n",
      "array('i', [1, 2, 3, 4, 5, 6, 7, 11, 15])\n",
      "array('i', [15, 11, 7, 6, 5, 4, 3, 2, 1])\n",
      "array('i', [1, 6, 7, 89, 45, 100, 22, 65, 98])\n",
      "1\n",
      "6\n",
      "7\n",
      "89\n",
      "45\n",
      "100\n",
      "22\n",
      "65\n",
      "98\n"
     ]
    }
   ],
   "source": [
    "import array as arr\n",
    "from array import *\n",
    "\n",
    "a = arr.array('i',[1,2,3,4,5,6,7,8,9,10])\n",
    "print(a)\n",
    "\n",
    "# 1. Display all elements\n",
    "\n",
    "for i in a:\n",
    "    print(i)\n",
    "\n",
    "#2. Modify the elements\n",
    "\n",
    "a[7]=11\n",
    "a[9]=15\n",
    "print(a)\n",
    "\n",
    "#3. Delete element\n",
    "\n",
    "a.remove(9)\n",
    "print(a)\n",
    "\n",
    "#4. Reverse the elements\n",
    "\n",
    "print(a[::-1])\n",
    "\n",
    "\n",
    "\n",
    "\n",
    "array1=arr.array('i',[1,6,7,89,45])\n",
    "\n",
    "##print(array1[0])\n",
    "##print(array1[1])\n",
    "\n",
    "array1.insert(1,60)    ##\n",
    "\n",
    "del array1[1]\n",
    "\n",
    "array1.append(100)\n",
    "\n",
    "array2 = arr.array('i',[22,65,98])\n",
    "\n",
    "array1.extend(array2)\n",
    "\n",
    "print(array1)\n",
    "\n",
    "for x in array1:\n",
    "    print(x)\n"
   ]
  },
  {
   "cell_type": "code",
   "execution_count": null,
   "id": "6300601a-d50d-4fca-98cb-b40dc3952946",
   "metadata": {},
   "outputs": [],
   "source": []
  },
  {
   "cell_type": "markdown",
   "id": "dac6bcd4-a856-4e9d-aebe-5c52ef474621",
   "metadata": {},
   "source": [
    "## Sorting"
   ]
  },
  {
   "cell_type": "markdown",
   "id": "03852d39-0b46-45af-b7d4-989acc6bf16e",
   "metadata": {},
   "source": [
    "### Bubble sort"
   ]
  },
  {
   "cell_type": "code",
   "execution_count": 12,
   "id": "c8d17729-ae81-47a2-9bad-f7c601cd84f2",
   "metadata": {},
   "outputs": [
    {
     "name": "stdin",
     "output_type": "stream",
     "text": [
      "Enter elements seperated by space 23 56 89 12 45 26 17 11 5\n"
     ]
    },
    {
     "name": "stdout",
     "output_type": "stream",
     "text": [
      "Sorted array is = [5, 11, 12, 17, 23, 26, 45, 56, 89]\n"
     ]
    }
   ],
   "source": [
    "def bubble_sort(arr):\n",
    "    n = len(arr)    # Get the length of the array\n",
    "    for i in range(n):          # Outer loop: Go through the entire list n times\n",
    "        for j in range(0,n-i-1):   # Inner loop: Compare each pair of adjacent elements  \n",
    "                                   #The loop runs from 0 to n - i - 1, where n - i - 1 is the last index of the unsorted portion of the list.\n",
    "            \n",
    "            if arr[j]>arr[j+1]:    # If the current element is greater than the next one\n",
    "                arr[j],arr[j+1]=arr[j+1],arr[j]    # Swap the elements if they are out of order\n",
    "\n",
    "    return arr  # Return the sorted array\n",
    "\n",
    "user_input = input(\"Enter elements seperated by space\")\n",
    "arr = [int(x) for x in user_input.split()]   # Convert the input string into a list of integers\n",
    "\n",
    "sorted_array = bubble_sort(arr)   \n",
    "print(\"Sorted array is =\",sorted_array)"
   ]
  },
  {
   "cell_type": "markdown",
   "id": "f7ea4cac-92d9-4d78-bc2c-a49f8eb52011",
   "metadata": {},
   "source": [
    "### Quick Sort"
   ]
  },
  {
   "cell_type": "code",
   "execution_count": 18,
   "id": "0247d1c7-1144-4282-b6b4-97ad41fed0a8",
   "metadata": {},
   "outputs": [
    {
     "name": "stdout",
     "output_type": "stream",
     "text": [
      "sorted list is = [0, 5, 5, 6, 6, 6, 7, 7, 7, 8, 8, 8, 9, 9]\n"
     ]
    }
   ],
   "source": [
    "def quick_sort(sequence):\n",
    "\n",
    "    ### we have to check the length of the list/array\n",
    "    length = len(sequence)    \n",
    "\n",
    "    ## now lets check if the list have only 1 item or not. if list has only 1 item then return the list as it is already sorted.\n",
    "    if length <= 1:\n",
    "        return sequence\n",
    "    else:\n",
    "        pivot = sequence[-1]  ## if list has multiple items then take the last one as pivot which is sequence[-1]\n",
    "\n",
    "    items_greater = []   ## taking empty list\n",
    "    items_lower = []    ## taking empty list\n",
    "\n",
    "    for item in sequence[:-1]:\n",
    "        if item > pivot:\n",
    "            items_greater.append(item)\n",
    "\n",
    "        else:\n",
    "            items_lower.append(item)\n",
    "\n",
    "    return quick_sort(items_lower) + [pivot] + quick_sort(items_greater)\n",
    "\n",
    "print(\"sorted list is =\",quick_sort([5,6,7,8,9,8,7,6,5,6,7,8,9,0]))"
   ]
  },
  {
   "cell_type": "markdown",
   "id": "713993f2-6d00-4625-a523-db6c6cfe0232",
   "metadata": {},
   "source": [
    "#### Using Partition Logic (for using less space)"
   ]
  },
  {
   "cell_type": "code",
   "execution_count": 20,
   "id": "cc059a21-df79-4030-8a0b-209f7059bea2",
   "metadata": {},
   "outputs": [
    {
     "name": "stdout",
     "output_type": "stream",
     "text": [
      "Sorted array: [4, 11, 12, 13, 15, 16, 17, 18, 19]\n"
     ]
    }
   ],
   "source": [
    "def partition(array, low, high):\n",
    "    pivot = array[high]  # Pivot element is the last one in the array segment\n",
    "    i = low - 1  # Pointer for the smaller element\n",
    "    for j in range(low, high):  # Traverse the array\n",
    "        if array[j] <= pivot:  # If current element is smaller than or equal to pivot\n",
    "            i += 1\n",
    "            array[i], array[j] = array[j], array[i]  # Swap elements\n",
    "    # Place the pivot in the correct position\n",
    "    array[i + 1], array[high] = array[high], array[i + 1]\n",
    "    return i + 1  # Return the pivot index\n",
    "\n",
    "def quicksort(array, low=0, high=None):\n",
    "    if high is None:\n",
    "        high = len(array) - 1  # Set high to the last index if it's not provided\n",
    "    if low < high:  # Continue if the subarray has more than one element\n",
    "        pivot_index = partition(array, low, high)  # Get the pivot index\n",
    "        quicksort(array, low, pivot_index - 1)  # Sort the left subarray\n",
    "        quicksort(array, pivot_index + 1, high)  # Sort the right subarray\n",
    "\n",
    "my_array = [19, 17, 15, 12, 16, 18, 4, 11, 13]\n",
    "quicksort(my_array)  # Call quicksort to sort the array\n",
    "print(\"Sorted array:\", my_array)"
   ]
  },
  {
   "cell_type": "code",
   "execution_count": null,
   "id": "015cb297-b107-443f-a971-92047c901114",
   "metadata": {},
   "outputs": [],
   "source": []
  },
  {
   "cell_type": "markdown",
   "id": "8bb3bccd-6ddb-4515-a220-374d5fb5d03d",
   "metadata": {},
   "source": [
    "### Selection Sort"
   ]
  },
  {
   "cell_type": "code",
   "execution_count": 17,
   "id": "5232fc93-68c2-4643-9157-f25d5ea48443",
   "metadata": {},
   "outputs": [
    {
     "name": "stdout",
     "output_type": "stream",
     "text": [
      "Sorted list: [1, 8, 10, 11, 11, 12, 22, 25, 64]\n"
     ]
    }
   ],
   "source": [
    "def selection_sort(arr):\n",
    "  \n",
    "\n",
    "    n = len(arr)  # Get the length of the list\n",
    "\n",
    "    for i in range(n):  # Iterate through the list\n",
    "        # Find the minimum element in the unsorted portion of the list\n",
    "        min_index = i  # Assume the current element is the minimum\n",
    "        for j in range(i + 1, n):  # Iterate through the unsorted portion\n",
    "            if arr[j] < arr[min_index]:  # If a smaller element is found\n",
    "                min_index = j  # Update the index of the minimum element\n",
    "\n",
    "        # Swap the found minimum element with the first element of the unsorted portion\n",
    "        arr[i], arr[min_index] = arr[min_index], arr[i]\n",
    "\n",
    "    return arr\n",
    "\n",
    "# Example usage:\n",
    "my_list = [64, 25, 12, 22, 11,11,1,8,10]\n",
    "sorted_list = selection_sort(my_list)\n",
    "print(\"Sorted list:\", sorted_list)\n",
    "\n",
    "#Detailed explanation:\n",
    "\n",
    "#1.Initialization:\n",
    "#   -The function selection_sort takes a list arr as input.\n",
    "#   -n stores the length of the input list.\n",
    "\n",
    "#2.Outer Loop:\n",
    "#   -The outer loop (for i in range(n)) iterates through the list from the first element (index 0) to the last element.\n",
    "#   -In each iteration of the outer loop, we assume that the element at index i is the minimum element in the unsorted portion of the list (from index i to the end).\n",
    "\n",
    "#3.Finding the Minimum:\n",
    "#   -min_index is initialized to i, which is the index of the current assumed minimum.\n",
    "#   -The inner loop (for j in range(i + 1, n)) iterates through the remaining unsorted portion of the list (from index i + 1 to the end).\n",
    "#   -Inside the inner loop, we compare the element at index j with the element at index min_index.\n",
    "#   -If the element at index j is smaller than the element at index min_index, we update min_index to j. This means we have found a new minimum element.\n",
    "\n",
    "#4.Swapping:\n",
    "#   -After the inner loop finishes, min_index will hold the index of the actual minimum element in the unsorted portion.\n",
    "#   -We then swap the element at index i with the element at index min_index. This places the minimum element in its correct sorted position at the beginning of the unsorted portion.\n",
    "#   -Python's simultaneous assignment (arr[i], arr[min_index] = arr[min_index], arr[i]) makes swapping concise.\n",
    "\n",
    "#5.Repeating:\n",
    "#   -The outer loop continues, and in each iteration, the sorted portion of the list grows by one element, and the unsorted portion shrinks by one element.\n",
    "#   -This process is repeated until the entire list is sorted.\n",
    "\n",
    "#6.Return:\n",
    "#   -Finally, the function returns the sorted list."
   ]
  },
  {
   "cell_type": "code",
   "execution_count": null,
   "id": "324793ad-c44e-40e8-b2d5-b443ec43594f",
   "metadata": {},
   "outputs": [],
   "source": [
    "\n"
   ]
  }
 ],
 "metadata": {
  "kernelspec": {
   "display_name": "Python 3 (ipykernel)",
   "language": "python",
   "name": "python3"
  },
  "language_info": {
   "codemirror_mode": {
    "name": "ipython",
    "version": 3
   },
   "file_extension": ".py",
   "mimetype": "text/x-python",
   "name": "python",
   "nbconvert_exporter": "python",
   "pygments_lexer": "ipython3",
   "version": "3.12.4"
  }
 },
 "nbformat": 4,
 "nbformat_minor": 5
}
